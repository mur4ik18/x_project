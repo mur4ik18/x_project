{
 "cells": [
  {
   "cell_type": "code",
   "execution_count": 2,
   "metadata": {},
   "outputs": [
    {
     "name": "stdout",
     "output_type": "stream",
     "text": [
      "['IAC Bus 1', 'IAC Bus 2', 'IAC Bus 3', 'Entr√©e virtuelle GarageBand']\n"
     ]
    },
    {
     "data": {
      "text/plain": [
       "<_rtmidi.MidiOut at 0x12c89ccc0>"
      ]
     },
     "execution_count": 2,
     "metadata": {},
     "output_type": "execute_result"
    }
   ],
   "source": [
    "import mido\n",
    "import time\n",
    "import rtmidi\n",
    "\n",
    "\n",
    "midiout = rtmidi.MidiOut()\n",
    "available_ports = midiout.get_ports()\n",
    "print(available_ports)\n",
    "midiout.open_port(3)"
   ]
  },
  {
   "cell_type": "code",
   "execution_count": 17,
   "metadata": {},
   "outputs": [],
   "source": [
    "midi = mido.set_backend('mido.backends.rtmidi')\n",
    "midi = mido.open_output('Entr√©e virtuelle GarageBand')\n"
   ]
  },
  {
   "cell_type": "code",
   "execution_count": 19,
   "metadata": {},
   "outputs": [],
   "source": [
    "x = [\n",
    "{'note': 64, 'velocity': 100, 'type': 'note_on', 'channel': 0, 'time': 0},\n",
    "{'note': 67, 'velocity': 100, 'type': 'note_on', 'channel': 0, 'time': 0.2},\n",
    "{'note': 71, 'velocity': 100, 'type': 'note_on', 'channel': 0, 'time': 0.2},\n",
    "\n",
    "{'note': 64, 'velocity': 100, 'type': 'note_on', 'channel': 0, 'time': 0},\n",
    "{'note': 68, 'velocity': 100, 'type': 'note_on', 'channel': 0, 'time': 0.2},\n",
    "{'note': 71, 'velocity': 100, 'type': 'note_on', 'channel': 0, 'time': 0.2},]"
   ]
  },
  {
   "cell_type": "code",
   "execution_count": 31,
   "metadata": {},
   "outputs": [],
   "source": [
    "from OurMidi import OurMidi\n",
    "\n",
    "m = OurMidi(\"Entr√©e virtuelle GarageBand\")\n"
   ]
  },
  {
   "cell_type": "code",
   "execution_count": 32,
   "metadata": {},
   "outputs": [
    {
     "ename": "AttributeError",
     "evalue": "'dict' object has no attribute 'time'",
     "output_type": "error",
     "traceback": [
      "\u001b[0;31m---------------------------------------------------------------------------\u001b[0m",
      "\u001b[0;31mAttributeError\u001b[0m                            Traceback (most recent call last)",
      "Cell \u001b[0;32mIn[32], line 10\u001b[0m\n\u001b[1;32m      1\u001b[0m x \u001b[38;5;241m=\u001b[39m [\n\u001b[1;32m      2\u001b[0m {\u001b[38;5;124m'\u001b[39m\u001b[38;5;124mnote\u001b[39m\u001b[38;5;124m'\u001b[39m: \u001b[38;5;241m64\u001b[39m, \u001b[38;5;124m'\u001b[39m\u001b[38;5;124mvelocity\u001b[39m\u001b[38;5;124m'\u001b[39m: \u001b[38;5;241m100\u001b[39m, \u001b[38;5;124m'\u001b[39m\u001b[38;5;124mtype\u001b[39m\u001b[38;5;124m'\u001b[39m: \u001b[38;5;124m'\u001b[39m\u001b[38;5;124mnote_on\u001b[39m\u001b[38;5;124m'\u001b[39m, \u001b[38;5;124m'\u001b[39m\u001b[38;5;124mchannel\u001b[39m\u001b[38;5;124m'\u001b[39m: \u001b[38;5;241m0\u001b[39m, \u001b[38;5;124m'\u001b[39m\u001b[38;5;124mtime\u001b[39m\u001b[38;5;124m'\u001b[39m: \u001b[38;5;241m0\u001b[39m},\n\u001b[1;32m      3\u001b[0m {\u001b[38;5;124m'\u001b[39m\u001b[38;5;124mnote\u001b[39m\u001b[38;5;124m'\u001b[39m: \u001b[38;5;241m67\u001b[39m, \u001b[38;5;124m'\u001b[39m\u001b[38;5;124mvelocity\u001b[39m\u001b[38;5;124m'\u001b[39m: \u001b[38;5;241m100\u001b[39m, \u001b[38;5;124m'\u001b[39m\u001b[38;5;124mtype\u001b[39m\u001b[38;5;124m'\u001b[39m: \u001b[38;5;124m'\u001b[39m\u001b[38;5;124mnote_on\u001b[39m\u001b[38;5;124m'\u001b[39m, \u001b[38;5;124m'\u001b[39m\u001b[38;5;124mchannel\u001b[39m\u001b[38;5;124m'\u001b[39m: \u001b[38;5;241m0\u001b[39m, \u001b[38;5;124m'\u001b[39m\u001b[38;5;124mtime\u001b[39m\u001b[38;5;124m'\u001b[39m: \u001b[38;5;241m0.2\u001b[39m},\n\u001b[0;32m   (...)\u001b[0m\n\u001b[1;32m      7\u001b[0m {\u001b[38;5;124m'\u001b[39m\u001b[38;5;124mnote\u001b[39m\u001b[38;5;124m'\u001b[39m: \u001b[38;5;241m68\u001b[39m, \u001b[38;5;124m'\u001b[39m\u001b[38;5;124mvelocity\u001b[39m\u001b[38;5;124m'\u001b[39m: \u001b[38;5;241m100\u001b[39m, \u001b[38;5;124m'\u001b[39m\u001b[38;5;124mtype\u001b[39m\u001b[38;5;124m'\u001b[39m: \u001b[38;5;124m'\u001b[39m\u001b[38;5;124mnote_on\u001b[39m\u001b[38;5;124m'\u001b[39m, \u001b[38;5;124m'\u001b[39m\u001b[38;5;124mchannel\u001b[39m\u001b[38;5;124m'\u001b[39m: \u001b[38;5;241m0\u001b[39m, \u001b[38;5;124m'\u001b[39m\u001b[38;5;124mtime\u001b[39m\u001b[38;5;124m'\u001b[39m: \u001b[38;5;241m0.2\u001b[39m},\n\u001b[1;32m      8\u001b[0m {\u001b[38;5;124m'\u001b[39m\u001b[38;5;124mnote\u001b[39m\u001b[38;5;124m'\u001b[39m: \u001b[38;5;241m71\u001b[39m, \u001b[38;5;124m'\u001b[39m\u001b[38;5;124mvelocity\u001b[39m\u001b[38;5;124m'\u001b[39m: \u001b[38;5;241m100\u001b[39m, \u001b[38;5;124m'\u001b[39m\u001b[38;5;124mtype\u001b[39m\u001b[38;5;124m'\u001b[39m: \u001b[38;5;124m'\u001b[39m\u001b[38;5;124mnote_on\u001b[39m\u001b[38;5;124m'\u001b[39m, \u001b[38;5;124m'\u001b[39m\u001b[38;5;124mchannel\u001b[39m\u001b[38;5;124m'\u001b[39m: \u001b[38;5;241m0\u001b[39m, \u001b[38;5;124m'\u001b[39m\u001b[38;5;124mtime\u001b[39m\u001b[38;5;124m'\u001b[39m: \u001b[38;5;241m0.2\u001b[39m},]\n\u001b[0;32m---> 10\u001b[0m \u001b[43mm\u001b[49m\u001b[38;5;241;43m.\u001b[39;49m\u001b[43mplayList\u001b[49m\u001b[43m(\u001b[49m\u001b[43mx\u001b[49m\u001b[43m)\u001b[49m\n",
      "File \u001b[0;32m~/projects/all/x_project/midi/OurMidi.py:18\u001b[0m, in \u001b[0;36mOurMidi.playList\u001b[0;34m(self, music)\u001b[0m\n\u001b[1;32m     14\u001b[0m track \u001b[38;5;241m=\u001b[39m mido\u001b[38;5;241m.\u001b[39mMidiTrack()\n\u001b[1;32m     15\u001b[0m \u001b[38;5;28mself\u001b[39m\u001b[38;5;241m.\u001b[39mmid\u001b[38;5;241m.\u001b[39mtracks\u001b[38;5;241m.\u001b[39mappend(track)\n\u001b[0;32m---> 18\u001b[0m \u001b[38;5;28;01mfor\u001b[39;00m i \u001b[38;5;129;01min\u001b[39;00m music:\n\u001b[1;32m     19\u001b[0m     track\u001b[38;5;241m.\u001b[39mappend(i)\n\u001b[1;32m     21\u001b[0m \u001b[38;5;28;01mwith\u001b[39;00m mido\u001b[38;5;241m.\u001b[39mopen_output() \u001b[38;5;28;01mas\u001b[39;00m outport:\n",
      "File \u001b[0;32m~/projects/all/x_project/env/lib/python3.12/site-packages/mido/midifiles/midifiles.py:426\u001b[0m, in \u001b[0;36mMidiFile.play\u001b[0;34m(self, meta_messages, now)\u001b[0m\n\u001b[1;32m    423\u001b[0m start_time \u001b[38;5;241m=\u001b[39m now()\n\u001b[1;32m    424\u001b[0m input_time \u001b[38;5;241m=\u001b[39m \u001b[38;5;241m0.0\u001b[39m\n\u001b[0;32m--> 426\u001b[0m \u001b[43m\u001b[49m\u001b[38;5;28;43;01mfor\u001b[39;49;00m\u001b[43m \u001b[49m\u001b[43mmsg\u001b[49m\u001b[43m \u001b[49m\u001b[38;5;129;43;01min\u001b[39;49;00m\u001b[43m \u001b[49m\u001b[38;5;28;43mself\u001b[39;49m\u001b[43m:\u001b[49m\n\u001b[1;32m    427\u001b[0m \u001b[43m    \u001b[49m\u001b[43minput_time\u001b[49m\u001b[43m \u001b[49m\u001b[38;5;241;43m+\u001b[39;49m\u001b[38;5;241;43m=\u001b[39;49m\u001b[43m \u001b[49m\u001b[43mmsg\u001b[49m\u001b[38;5;241;43m.\u001b[39;49m\u001b[43mtime\u001b[49m\n\u001b[1;32m    429\u001b[0m \u001b[43m    \u001b[49m\u001b[43mplayback_time\u001b[49m\u001b[43m \u001b[49m\u001b[38;5;241;43m=\u001b[39;49m\u001b[43m \u001b[49m\u001b[43mnow\u001b[49m\u001b[43m(\u001b[49m\u001b[43m)\u001b[49m\u001b[43m \u001b[49m\u001b[38;5;241;43m-\u001b[39;49m\u001b[43m \u001b[49m\u001b[43mstart_time\u001b[49m\n",
      "File \u001b[0;32m~/projects/all/x_project/env/lib/python3.12/site-packages/mido/midifiles/midifiles.py:391\u001b[0m, in \u001b[0;36mMidiFile.__iter__\u001b[0;34m(self)\u001b[0m\n\u001b[1;32m    389\u001b[0m \u001b[38;5;28;01mdef\u001b[39;00m \u001b[38;5;21m__iter__\u001b[39m(\u001b[38;5;28mself\u001b[39m):\n\u001b[1;32m    390\u001b[0m     tempo \u001b[38;5;241m=\u001b[39m DEFAULT_TEMPO\n\u001b[0;32m--> 391\u001b[0m     \u001b[38;5;28;01mfor\u001b[39;00m msg \u001b[38;5;129;01min\u001b[39;00m \u001b[38;5;28;43mself\u001b[39;49m\u001b[38;5;241;43m.\u001b[39;49m\u001b[43mmerged_track\u001b[49m:\n\u001b[1;32m    392\u001b[0m         \u001b[38;5;66;03m# Convert message time from absolute time\u001b[39;00m\n\u001b[1;32m    393\u001b[0m         \u001b[38;5;66;03m# in ticks to relative time in seconds.\u001b[39;00m\n\u001b[1;32m    394\u001b[0m         \u001b[38;5;28;01mif\u001b[39;00m msg\u001b[38;5;241m.\u001b[39mtime \u001b[38;5;241m>\u001b[39m \u001b[38;5;241m0\u001b[39m:\n\u001b[1;32m    395\u001b[0m             delta \u001b[38;5;241m=\u001b[39m tick2second(msg\u001b[38;5;241m.\u001b[39mtime, \u001b[38;5;28mself\u001b[39m\u001b[38;5;241m.\u001b[39mticks_per_beat, tempo)\n",
      "File \u001b[0;32m~/projects/all/x_project/env/lib/python3.12/site-packages/mido/midifiles/midifiles.py:330\u001b[0m, in \u001b[0;36mMidiFile.merged_track\u001b[0;34m(self)\u001b[0m\n\u001b[1;32m    327\u001b[0m     \u001b[38;5;28;01mraise\u001b[39;00m \u001b[38;5;167;01mTypeError\u001b[39;00m(\u001b[38;5;124m\"\u001b[39m\u001b[38;5;124mcan\u001b[39m\u001b[38;5;124m'\u001b[39m\u001b[38;5;124mt merge tracks in type 2 (asynchronous) file\u001b[39m\u001b[38;5;124m\"\u001b[39m)\n\u001b[1;32m    329\u001b[0m \u001b[38;5;28;01mif\u001b[39;00m \u001b[38;5;28mself\u001b[39m\u001b[38;5;241m.\u001b[39m_merged_track \u001b[38;5;129;01mis\u001b[39;00m \u001b[38;5;28;01mNone\u001b[39;00m:\n\u001b[0;32m--> 330\u001b[0m     \u001b[38;5;28mself\u001b[39m\u001b[38;5;241m.\u001b[39m_merged_track \u001b[38;5;241m=\u001b[39m \u001b[43mmerge_tracks\u001b[49m\u001b[43m(\u001b[49m\u001b[38;5;28;43mself\u001b[39;49m\u001b[38;5;241;43m.\u001b[39;49m\u001b[43mtracks\u001b[49m\u001b[43m,\u001b[49m\u001b[43m \u001b[49m\u001b[43mskip_checks\u001b[49m\u001b[38;5;241;43m=\u001b[39;49m\u001b[38;5;28;43;01mTrue\u001b[39;49;00m\u001b[43m)\u001b[49m\n\u001b[1;32m    331\u001b[0m \u001b[38;5;28;01mreturn\u001b[39;00m \u001b[38;5;28mself\u001b[39m\u001b[38;5;241m.\u001b[39m_merged_track\n",
      "File \u001b[0;32m~/projects/all/x_project/env/lib/python3.12/site-packages/mido/midifiles/tracks.py:118\u001b[0m, in \u001b[0;36mmerge_tracks\u001b[0;34m(tracks, skip_checks)\u001b[0m\n\u001b[1;32m    116\u001b[0m messages \u001b[38;5;241m=\u001b[39m []\n\u001b[1;32m    117\u001b[0m \u001b[38;5;28;01mfor\u001b[39;00m track \u001b[38;5;129;01min\u001b[39;00m tracks:\n\u001b[0;32m--> 118\u001b[0m     \u001b[43mmessages\u001b[49m\u001b[38;5;241;43m.\u001b[39;49m\u001b[43mextend\u001b[49m\u001b[43m(\u001b[49m\u001b[43m_to_abstime\u001b[49m\u001b[43m(\u001b[49m\u001b[43mtrack\u001b[49m\u001b[43m,\u001b[49m\u001b[43m \u001b[49m\u001b[43mskip_checks\u001b[49m\u001b[38;5;241;43m=\u001b[39;49m\u001b[43mskip_checks\u001b[49m\u001b[43m)\u001b[49m\u001b[43m)\u001b[49m\n\u001b[1;32m    120\u001b[0m messages\u001b[38;5;241m.\u001b[39msort(key\u001b[38;5;241m=\u001b[39m\u001b[38;5;28;01mlambda\u001b[39;00m msg: msg\u001b[38;5;241m.\u001b[39mtime)\n\u001b[1;32m    122\u001b[0m \u001b[38;5;28;01mreturn\u001b[39;00m MidiTrack(\n\u001b[1;32m    123\u001b[0m     fix_end_of_track(\n\u001b[1;32m    124\u001b[0m         _to_reltime(messages, skip_checks\u001b[38;5;241m=\u001b[39mskip_checks),\n\u001b[1;32m    125\u001b[0m         skip_checks\u001b[38;5;241m=\u001b[39mskip_checks,\n\u001b[1;32m    126\u001b[0m     )\n\u001b[1;32m    127\u001b[0m )\n",
      "File \u001b[0;32m~/projects/all/x_project/env/lib/python3.12/site-packages/mido/midifiles/tracks.py:71\u001b[0m, in \u001b[0;36m_to_abstime\u001b[0;34m(messages, skip_checks)\u001b[0m\n\u001b[1;32m     69\u001b[0m now \u001b[38;5;241m=\u001b[39m \u001b[38;5;241m0\u001b[39m\n\u001b[1;32m     70\u001b[0m \u001b[38;5;28;01mfor\u001b[39;00m msg \u001b[38;5;129;01min\u001b[39;00m messages:\n\u001b[0;32m---> 71\u001b[0m     now \u001b[38;5;241m+\u001b[39m\u001b[38;5;241m=\u001b[39m \u001b[43mmsg\u001b[49m\u001b[38;5;241;43m.\u001b[39;49m\u001b[43mtime\u001b[49m\n\u001b[1;32m     72\u001b[0m     \u001b[38;5;28;01myield\u001b[39;00m msg\u001b[38;5;241m.\u001b[39mcopy(skip_checks\u001b[38;5;241m=\u001b[39mskip_checks, time\u001b[38;5;241m=\u001b[39mnow)\n",
      "\u001b[0;31mAttributeError\u001b[0m: 'dict' object has no attribute 'time'"
     ]
    }
   ],
   "source": [
    "x = [\n",
    "{'note': 64, 'velocity': 100, 'type': 'note_on', 'channel': 0, 'time': 0},\n",
    "{'note': 67, 'velocity': 100, 'type': 'note_on', 'channel': 0, 'time': 0.2},\n",
    "{'note': 71, 'velocity': 100, 'type': 'note_on', 'channel': 0, 'time': 0.2},\n",
    "\n",
    "{'note': 64, 'velocity': 100, 'type': 'note_on', 'channel': 0, 'time': 0},\n",
    "{'note': 68, 'velocity': 100, 'type': 'note_on', 'channel': 0, 'time': 0.2},\n",
    "{'note': 71, 'velocity': 100, 'type': 'note_on', 'channel': 0, 'time': 0.2},]\n",
    "\n",
    "m.playList(x)"
   ]
  },
  {
   "cell_type": "code",
   "execution_count": 12,
   "metadata": {},
   "outputs": [],
   "source": [
    "# Create a new MIDI file and track\n",
    "mid = mido.MidiFile()\n",
    "track = mido.MidiTrack()\n",
    "mid.tracks.append(track)\n",
    "\n",
    "\n",
    "\n",
    "# Add events to the track\n",
    "for event in x:\n",
    "    if event['type'] == 'note_on':\n",
    "        ticks = seconds_to_ticks(event['time'], current_tempo, ticks_per_beat)\n",
    "        msg = mido.Message(event['type'], note=event['note'], velocity=event['velocity'], channel=event['channel'], time=ticks)\n",
    "        track.append(msg)\n",
    "\n",
    "# Save the MIDI file\n",
    "mid.save('output.mid')"
   ]
  },
  {
   "cell_type": "code",
   "execution_count": 13,
   "metadata": {},
   "outputs": [],
   "source": [
    "mid = mido.MidiFile('output.mid')\n",
    "\n",
    "# Open an output port\n",
    "with mido.open_output() as outport:\n",
    "    # Play the MIDI file\n",
    "    for msg in mid.play():\n",
    "        outport.send(msg)"
   ]
  },
  {
   "cell_type": "code",
   "execution_count": 14,
   "metadata": {},
   "outputs": [
    {
     "name": "stdout",
     "output_type": "stream",
     "text": [
      "[Message('note_on', channel=0, note=60, velocity=100, time=1920), Message('note_on', channel=0, note=64, velocity=100, time=1920), Message('note_on', channel=0, note=67, velocity=100, time=1920)]\n"
     ]
    }
   ],
   "source": [
    "Chromas = ['C', 'C#', 'D', 'D#', 'E', 'F', 'F#', 'G', 'G#', 'A', 'A#', 'B']\n",
    "class Accord:\n",
    "    def __init__(self, tonic, type, pitch):\n",
    "        self.tonic = self.__get_tonic(tonic, pitch)\n",
    "        self.type = type\n",
    "        self.pitch = pitch\n",
    "        self.notes = []\n",
    "        self.__build()\n",
    "        \n",
    "\n",
    "    #def __private_method(self):\n",
    "    #    print(\"Entity __private_method\")\n",
    "\n",
    "    #def _protected_method(self):\n",
    "    #    print(\"Entity __protected_method\")\n",
    "    \n",
    "    def __get_tonic(self, tonic, pitch):\n",
    "        return Chromas.index(tonic) + pitch*12\n",
    "\n",
    "\n",
    "    def __build(self):\n",
    "        match self.type:\n",
    "            case 'maj':\n",
    "                self.notes = [self.tonic, self.tonic + 4, self.tonic + 7]\n",
    "            case 'min':\n",
    "                self.notes = [self.tonic, self.tonic + 3, self.tonic + 7]\n",
    "            case '7':\n",
    "                self.notes = [self.tonic, self.tonic + 4, self.tonic + 7, self.tonic + 10]\n",
    "            case _:\n",
    "                print(\"Unknown chord type\")\n",
    "\n",
    "    def __str__(self):\n",
    "        return f'{self.tonic} {self.type} {self.notes}'\n",
    "    \n",
    "    def get_message(self, channel, velocity, time):\n",
    "        message = []\n",
    "        for note in self.notes:\n",
    "            message.append(mido.Message('note_on', note=note, velocity=velocity, channel=channel, time=seconds_to_ticks(time, current_tempo, ticks_per_beat)))\n",
    "        return message\n",
    "    \n",
    "\n",
    "print(Accord('C', 'maj', 5).get_message(0, 100, 2))\n"
   ]
  },
  {
   "cell_type": "code",
   "execution_count": 15,
   "metadata": {},
   "outputs": [],
   "source": [
    "mid = mido.MidiFile()\n",
    "track = mido.MidiTrack()\n",
    "mid.tracks.append(track)\n",
    "\n",
    "track += Accord('C', 'maj', 5).get_message(0, 100, 0)\n",
    "track += Accord('C', 'min', 5).get_message(0, 100, 0)\n",
    "track += Accord('C', '7', 5).get_message(0, 100, 0)\n",
    "\n",
    "track += Accord('G', 'maj', 5).get_message(0, 100, 0.5)\n",
    "track += Accord('G', 'min', 5).get_message(0, 100, 0.5)\n",
    "track += Accord('G', '7', 5).get_message(0, 100, 0.5)\n",
    "\n",
    "# Open an output port\n",
    "with mido.open_output() as outport:\n",
    "    # Play the MIDI file\n",
    "    for msg in mid.play():\n",
    "        outport.send(msg)"
   ]
  },
  {
   "cell_type": "code",
   "execution_count": 117,
   "metadata": {},
   "outputs": [
    {
     "data": {
      "text/plain": [
       "[60, 64, 67]"
      ]
     },
     "execution_count": 117,
     "metadata": {},
     "output_type": "execute_result"
    }
   ],
   "source": [
    "m = 60\n",
    "[i + m for i in [0,4,7]]"
   ]
  },
  {
   "cell_type": "code",
   "execution_count": 120,
   "metadata": {},
   "outputs": [
    {
     "name": "stdout",
     "output_type": "stream",
     "text": [
      "m\n"
     ]
    }
   ],
   "source": [
    "dict_intervals = {'M': [0,4,7], 'm':[0,3,7] ,'M7': [0,3,7,11], 'm7': [0,3,7,10], '7': [0,4,7,10], '7sus4': [0,5,7,10], '4': [0,5,7], '2': [0,2,7], '6': [0,4,7,9], 'm6': [0,3,7,9], '6sus4': [0,5,7,9], 'dim': [0,3,6], 'aug': [0,4,8] , '5': [0,7] }\n",
    "for key, value in dict_intervals.items():\n",
    "   if value == [0,3,7]:\n",
    "      print(key) "
   ]
  }
 ],
 "metadata": {
  "kernelspec": {
   "display_name": "env",
   "language": "python",
   "name": "python3"
  },
  "language_info": {
   "codemirror_mode": {
    "name": "ipython",
    "version": 3
   },
   "file_extension": ".py",
   "mimetype": "text/x-python",
   "name": "python",
   "nbconvert_exporter": "python",
   "pygments_lexer": "ipython3",
   "version": "3.12.3"
  }
 },
 "nbformat": 4,
 "nbformat_minor": 2
}
