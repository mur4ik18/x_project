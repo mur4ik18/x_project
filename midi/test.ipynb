{
 "cells": [
  {
   "cell_type": "code",
   "execution_count": 1,
   "metadata": {},
   "outputs": [
    {
     "name": "stdout",
     "output_type": "stream",
     "text": [
      "['IAC Bus 1', 'IAC Bus 2', 'IAC Bus 3', 'Entr√©e virtuelle GarageBand']\n"
     ]
    },
    {
     "data": {
      "text/plain": [
       "<_rtmidi.MidiOut at 0x103fbbb00>"
      ]
     },
     "execution_count": 1,
     "metadata": {},
     "output_type": "execute_result"
    }
   ],
   "source": [
    "import mido\n",
    "import time\n",
    "import rtmidi\n",
    "\n",
    "\n",
    "midiout = rtmidi.MidiOut()\n",
    "available_ports = midiout.get_ports()\n",
    "print(available_ports)\n",
    "midiout.open_port(3)"
   ]
  },
  {
   "cell_type": "code",
   "execution_count": 17,
   "metadata": {},
   "outputs": [],
   "source": [
    "midi = mido.set_backend('mido.backends.rtmidi')\n",
    "midi = mido.open_output('Entr√©e virtuelle GarageBand')\n"
   ]
  },
  {
   "cell_type": "code",
   "execution_count": 69,
   "metadata": {},
   "outputs": [],
   "source": [
    "x = [\n",
    "{'note': 64, 'velocity': 100, 'type': 'note_on', 'channel': 0, 'time': 0},\n",
    "{'note': 67, 'velocity': 100, 'type': 'note_on', 'channel': 0, 'time': 0.2},\n",
    "{'note': 71, 'velocity': 100, 'type': 'note_on', 'channel': 0, 'time': 0.2},\n",
    "\n",
    "{'note': 64, 'velocity': 100, 'type': 'note_on', 'channel': 0, 'time': 0},\n",
    "{'note': 68, 'velocity': 100, 'type': 'note_on', 'channel': 0, 'time': 0.2},\n",
    "{'note': 71, 'velocity': 100, 'type': 'note_on', 'channel': 0, 'time': 0.2},]"
   ]
  },
  {
   "cell_type": "code",
   "execution_count": 72,
   "metadata": {},
   "outputs": [],
   "source": [
    "# Create a new MIDI file and track\n",
    "mid = mido.MidiFile()\n",
    "track = mido.MidiTrack()\n",
    "mid.tracks.append(track)\n",
    "\n",
    "# Function to convert time from seconds to MIDI ticks\n",
    "def seconds_to_ticks(seconds, tempo, ticks_per_beat):\n",
    "    microseconds_per_beat = tempo\n",
    "    seconds_per_beat = microseconds_per_beat / 1000000.0\n",
    "    ticks_per_second = ticks_per_beat / seconds_per_beat\n",
    "    return int(seconds * ticks_per_second)\n",
    "\n",
    "current_tempo = 500000  # Default 500,000 microseconds per beat (120 BPM)\n",
    "ticks_per_beat = mid.ticks_per_beat\n",
    "\n",
    "# Add events to the track\n",
    "for event in x:\n",
    "    if event['type'] == 'note_on':\n",
    "        ticks = seconds_to_ticks(event['time'], current_tempo, ticks_per_beat)\n",
    "        msg = mido.Message(event['type'], note=event['note'], velocity=event['velocity'], channel=event['channel'], time=ticks)\n",
    "        track.append(msg)\n",
    "\n",
    "# Save the MIDI file\n",
    "mid.save('output.mid')"
   ]
  },
  {
   "cell_type": "code",
   "execution_count": 73,
   "metadata": {},
   "outputs": [],
   "source": [
    "mid = mido.MidiFile('output.mid')\n",
    "\n",
    "# Open an output port\n",
    "with mido.open_output() as outport:\n",
    "    # Play the MIDI file\n",
    "    for msg in mid.play():\n",
    "        outport.send(msg)"
   ]
  },
  {
   "cell_type": "code",
   "execution_count": 91,
   "metadata": {},
   "outputs": [
    {
     "name": "stdout",
     "output_type": "stream",
     "text": [
      "[Message('note_on', channel=0, note=60, velocity=100, time=1920), Message('note_on', channel=0, note=64, velocity=100, time=1920), Message('note_on', channel=0, note=67, velocity=100, time=1920)]\n"
     ]
    }
   ],
   "source": [
    "Chromas = ['C', 'C#', 'D', 'D#', 'E', 'F', 'F#', 'G', 'G#', 'A', 'A#', 'B']\n",
    "class Accord:\n",
    "    def __init__(self, tonic, type, pitch):\n",
    "        self.tonic = self.__get_tonic(tonic, pitch)\n",
    "        self.type = type\n",
    "        self.pitch = pitch\n",
    "        self.notes = []\n",
    "        self.__build()\n",
    "        \n",
    "\n",
    "    #def __private_method(self):\n",
    "    #    print(\"Entity __private_method\")\n",
    "\n",
    "    #def _protected_method(self):\n",
    "    #    print(\"Entity __protected_method\")\n",
    "    \n",
    "    def __get_tonic(self, tonic, pitch):\n",
    "        return Chromas.index(tonic) + pitch*12\n",
    "\n",
    "\n",
    "    def __build(self):\n",
    "        match self.type:\n",
    "            case 'maj':\n",
    "                self.notes = [self.tonic, self.tonic + 4, self.tonic + 7]\n",
    "            case 'min':\n",
    "                self.notes = [self.tonic, self.tonic + 3, self.tonic + 7]\n",
    "            case '7':\n",
    "                self.notes = [self.tonic, self.tonic + 4, self.tonic + 7, self.tonic + 10]\n",
    "            case _:\n",
    "                print(\"Unknown chord type\")\n",
    "\n",
    "    def __str__(self):\n",
    "        return f'{self.tonic} {self.type} {self.notes}'\n",
    "    \n",
    "    def get_message(self, channel, velocity, time):\n",
    "        message = []\n",
    "        for note in self.notes:\n",
    "            message.append(mido.Message('note_on', note=note, velocity=velocity, channel=channel, time=seconds_to_ticks(time, current_tempo, ticks_per_beat)))\n",
    "        return message\n",
    "    \n",
    "\n",
    "print(Accord('C', 'maj', 5).get_message(0, 100, 2))\n"
   ]
  },
  {
   "cell_type": "code",
   "execution_count": 102,
   "metadata": {},
   "outputs": [
    {
     "ename": "KeyboardInterrupt",
     "evalue": "",
     "output_type": "error",
     "traceback": [
      "\u001b[0;31m---------------------------------------------------------------------------\u001b[0m",
      "\u001b[0;31mKeyboardInterrupt\u001b[0m                         Traceback (most recent call last)",
      "Cell \u001b[0;32mIn[102], line 16\u001b[0m\n\u001b[1;32m     13\u001b[0m \u001b[38;5;66;03m# Open an output port\u001b[39;00m\n\u001b[1;32m     14\u001b[0m \u001b[38;5;28;01mwith\u001b[39;00m mido\u001b[38;5;241m.\u001b[39mopen_output() \u001b[38;5;28;01mas\u001b[39;00m outport:\n\u001b[1;32m     15\u001b[0m     \u001b[38;5;66;03m# Play the MIDI file\u001b[39;00m\n\u001b[0;32m---> 16\u001b[0m \u001b[43m    \u001b[49m\u001b[38;5;28;43;01mfor\u001b[39;49;00m\u001b[43m \u001b[49m\u001b[43mmsg\u001b[49m\u001b[43m \u001b[49m\u001b[38;5;129;43;01min\u001b[39;49;00m\u001b[43m \u001b[49m\u001b[43mmid\u001b[49m\u001b[38;5;241;43m.\u001b[39;49m\u001b[43mplay\u001b[49m\u001b[43m(\u001b[49m\u001b[43m)\u001b[49m\u001b[43m:\u001b[49m\n\u001b[1;32m     17\u001b[0m \u001b[43m        \u001b[49m\u001b[43moutport\u001b[49m\u001b[38;5;241;43m.\u001b[39;49m\u001b[43msend\u001b[49m\u001b[43m(\u001b[49m\u001b[43mmsg\u001b[49m\u001b[43m)\u001b[49m\n",
      "File \u001b[0;32m~/projects/all/x_project/env/lib/python3.12/site-packages/mido/midifiles/midifiles.py:433\u001b[0m, in \u001b[0;36mMidiFile.play\u001b[0;34m(self, meta_messages, now)\u001b[0m\n\u001b[1;32m    430\u001b[0m duration_to_next_event \u001b[38;5;241m=\u001b[39m input_time \u001b[38;5;241m-\u001b[39m playback_time\n\u001b[1;32m    432\u001b[0m \u001b[38;5;28;01mif\u001b[39;00m duration_to_next_event \u001b[38;5;241m>\u001b[39m \u001b[38;5;241m0.0\u001b[39m:\n\u001b[0;32m--> 433\u001b[0m     \u001b[43mtime\u001b[49m\u001b[38;5;241;43m.\u001b[39;49m\u001b[43msleep\u001b[49m\u001b[43m(\u001b[49m\u001b[43mduration_to_next_event\u001b[49m\u001b[43m)\u001b[49m\n\u001b[1;32m    435\u001b[0m \u001b[38;5;28;01mif\u001b[39;00m \u001b[38;5;28misinstance\u001b[39m(msg, MetaMessage) \u001b[38;5;129;01mand\u001b[39;00m \u001b[38;5;129;01mnot\u001b[39;00m meta_messages:\n\u001b[1;32m    436\u001b[0m     \u001b[38;5;28;01mcontinue\u001b[39;00m\n",
      "\u001b[0;31mKeyboardInterrupt\u001b[0m: "
     ]
    }
   ],
   "source": [
    "mid = mido.MidiFile()\n",
    "track = mido.MidiTrack()\n",
    "mid.tracks.append(track)\n",
    "\n",
    "track += Accord('C', 'maj', 5).get_message(0, 100, 0)\n",
    "track += Accord('C', 'min', 5).get_message(0, 100, 0)\n",
    "track += Accord('C', '7', 5).get_message(0, 100, 0)\n",
    "\n",
    "track += Accord('G', 'maj', 5).get_message(0, 100, 0.5)\n",
    "track += Accord('G', 'min', 5).get_message(0, 100, 0.5)\n",
    "track += Accord('G', '7', 5).get_message(0, 100, 0.5)\n",
    "\n",
    "# Open an output port\n",
    "with mido.open_output() as outport:\n",
    "    # Play the MIDI file\n",
    "    for msg in mid.play():\n",
    "        outport.send(msg)"
   ]
  },
  {
   "cell_type": "code",
   "execution_count": 117,
   "metadata": {},
   "outputs": [
    {
     "data": {
      "text/plain": [
       "[60, 64, 67]"
      ]
     },
     "execution_count": 117,
     "metadata": {},
     "output_type": "execute_result"
    }
   ],
   "source": [
    "m = 60\n",
    "[i + m for i in [0,4,7]]"
   ]
  },
  {
   "cell_type": "code",
   "execution_count": 120,
   "metadata": {},
   "outputs": [
    {
     "name": "stdout",
     "output_type": "stream",
     "text": [
      "m\n"
     ]
    }
   ],
   "source": [
    "dict_intervals = {'M': [0,4,7], 'm':[0,3,7] ,'M7': [0,3,7,11], 'm7': [0,3,7,10], '7': [0,4,7,10], '7sus4': [0,5,7,10], '4': [0,5,7], '2': [0,2,7], '6': [0,4,7,9], 'm6': [0,3,7,9], '6sus4': [0,5,7,9], 'dim': [0,3,6], 'aug': [0,4,8] , '5': [0,7] }\n",
    "for key, value in dict_intervals.items():\n",
    "            if value == [0,3,7]:\n",
    "               print(key) "
   ]
  }
 ],
 "metadata": {
  "kernelspec": {
   "display_name": "env",
   "language": "python",
   "name": "python3"
  },
  "language_info": {
   "codemirror_mode": {
    "name": "ipython",
    "version": 3
   },
   "file_extension": ".py",
   "mimetype": "text/x-python",
   "name": "python",
   "nbconvert_exporter": "python",
   "pygments_lexer": "ipython3",
   "version": "3.12.3"
  }
 },
 "nbformat": 4,
 "nbformat_minor": 2
}
